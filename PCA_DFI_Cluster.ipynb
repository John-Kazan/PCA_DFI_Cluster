{
 "cells": [
  {
   "cell_type": "code",
   "execution_count": null,
   "metadata": {},
   "outputs": [],
   "source": [
    "import glob\n",
    "import pandas as pd\n",
    "import numpy as np\n",
    "from scipy import linalg as LA\n",
    "import matplotlib.pyplot as plt\n",
    "import matplotlib\n",
    "import matplotlib.cm as cm"
   ]
  },
  {
   "cell_type": "code",
   "execution_count": null,
   "metadata": {},
   "outputs": [],
   "source": [
    "def svd_function(b,n):\n",
    "    mu = np.mean(b,axis=1)\n",
    "    y = b - mu[:,None]\n",
    "    U,w,Vt = LA.svd(y,full_matrices=False)\n",
    "    S = LA.diagsvd(w,len(w),len(w))\n",
    "    print('Checking If the SVD went well...')\n",
    "    print(np.allclose(y,np.dot(U,np.dot(S,Vt))))\n",
    "    V = np.transpose(Vt)\n",
    "    V0=np.dot(V[:,0:n],S[0:n,0:n]) \n",
    "    return V0\n",
    "\n",
    "def plot_scatter_2d(V0,labels,q1,q2,savefig):\n",
    "    matplotlib.rcParams.update({'font.size': 10})\n",
    "    print(len(labels),len(labels))\n",
    "    savefig=savefig\n",
    "    q1 -= 1\n",
    "    q2 -= 1\n",
    "    fig, ax = plt.subplots()\n",
    "    colors = cm.rainbow(np.linspace(0, 1, len(V0)))\n",
    "    for i, val in enumerate(V0):\n",
    "        ax.scatter(V0[i,q1],V0[i,q2],label=labels[i],s=100,color=colors[i])\n",
    "    \n",
    "    for i, val in enumerate(V0):\n",
    "        ax.annotate(labels[i], (V0[i,q1] + abs(V0[i,q1]/50), V0[i,q2] + abs(V0[i,q2]/50)))\n",
    "    \n",
    "    ax.set_xlabel(r'$PC_{0}$'.format(q1 + 1))\n",
    "    ax.set_ylabel(r'$PC_{0}$'.format(q2 + 1))\n",
    "\n",
    "    ax.legend(bbox_to_anchor=(0., 1.01, 1., 0.1),loc=3, ncol=6, mode=\"expand\", borderaxespad=0.)\n",
    "    plt.savefig(savefig, bbox_inches='tight')\n",
    "\n",
    "def plot_scatter_3d(V0,labels,q1,q2,q3,savefig):\n",
    "    from mpl_toolkits.mplot3d import Axes3D\n",
    "    matplotlib.rcParams.update({'font.size': 10})\n",
    "    print(len(labels),len(labels))\n",
    "    savefig=savefig\n",
    "    q1 -= 1\n",
    "    q2 -= 1\n",
    "    q3 -= 1\n",
    "    fig = plt.figure()\n",
    "    ax = Axes3D(fig)\n",
    "    colors = cm.rainbow(np.linspace(0, 1, len(V0)))\n",
    "    for i, val in enumerate(V0):\n",
    "        ax.scatter(V0[i,q1],V0[i,q2],V0[i,q3],label=labels[i],color=colors[i])\n",
    "    \n",
    "    for i, val in enumerate(V0):\n",
    "        ax.text(V0[i,q1], V0[i,q2], V0[i,q3], '%s' % (labels[i]))\n",
    "    \n",
    "    ax.set_xlabel(r'$PC_{0}$'.format(q1 + 1))\n",
    "    ax.set_ylabel(r'$PC_{0}$'.format(q2 + 1))\n",
    "    ax.set_ylabel(r'$PC_{0}$'.format(q3 + 1))\n",
    "\n",
    "    ax.legend(bbox_to_anchor=(0., 1.01, 1., 0.1),loc=3, ncol=6, mode=\"expand\", borderaxespad=0.)\n",
    "    plt.savefig(savefig, bbox_inches='tight')    "
   ]
  },
  {
   "cell_type": "code",
   "execution_count": null,
   "metadata": {},
   "outputs": [],
   "source": [
    "data_files = []\n",
    "data_files += sorted(glob.glob('*_dfi.csv'))\n",
    "print(data_files)\n",
    "\n",
    "datadic = {}\n",
    "for data_file in data_files:\n",
    "    file_id = str(data_file.split('_')[0])\n",
    "    print(file_id)\n",
    "    datadic[file_id]=pd.read_csv(data_file,index_col='ResI')\n",
    "\n",
    "labels = datadic.keys()\n",
    "print(len(labels))\n",
    "\n",
    "num_muts=len(labels)\n",
    "x = np.zeros((datadic[datadic.keys()[0].shape[0]],num_muts))\n",
    "\n",
    "param='DFI_CA_pct'\n",
    "for i in range(num_muts):\n",
    "    label = labels[i]\n",
    "    print(label)\n",
    "    x[:,i] = datadic[label][param]\n",
    "\n",
    "\n",
    "n=3 #Number of Modes\n",
    "V0 = svd_function(x,n)"
   ]
  },
  {
   "cell_type": "code",
   "execution_count": null,
   "metadata": {},
   "outputs": [],
   "source": [
    "plot_scatter_2d(V0,labels,1,2,'sub1_2d_1_2.jpg')"
   ]
  },
  {
   "cell_type": "code",
   "execution_count": null,
   "metadata": {},
   "outputs": [],
   "source": [
    "plot_scatter_2d(V0,labels,1,3,'sub1_2d_1_3.jpg')"
   ]
  },
  {
   "cell_type": "code",
   "execution_count": null,
   "metadata": {},
   "outputs": [],
   "source": [
    "plot_scatter_2d(V0,labels,2,3,'sub1_2d_2_3.jpg')"
   ]
  },
  {
   "cell_type": "code",
   "execution_count": null,
   "metadata": {},
   "outputs": [],
   "source": [
    "plot_scatter_3d(V0,labels,1,2,3,'sub1_3d_1_2_3.jpg')"
   ]
  }
 ],
 "metadata": {
  "kernelspec": {
   "display_name": "Python [default]",
   "language": "python",
   "name": "python2"
  },
  "language_info": {
   "codemirror_mode": {
    "name": "ipython",
    "version": 2
   },
   "file_extension": ".py",
   "mimetype": "text/x-python",
   "name": "python",
   "nbconvert_exporter": "python",
   "pygments_lexer": "ipython2",
   "version": "2.7.13"
  }
 },
 "nbformat": 4,
 "nbformat_minor": 1
}
